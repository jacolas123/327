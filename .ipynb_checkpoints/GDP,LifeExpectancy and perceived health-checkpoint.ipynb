{
 "cells": [
  {
   "cell_type": "code",
   "execution_count": 1,
   "metadata": {
    "scrolled": true
   },
   "outputs": [
    {
     "data": {
      "application/javascript": [
       "const spec = {\"config\": {\"view\": {\"width\": 400, \"height\": 300}, \"mark\": {\"tooltip\": null}}, \"data\": {\"name\": \"data-7a3f19ee86c33e76528309985f79c706\"}, \"mark\": \"rect\", \"encoding\": {\"color\": {\"type\": \"quantitative\", \"aggregate\": \"count\"}, \"x\": {\"type\": \"quantitative\", \"bin\": {\"step\": 100000}, \"field\": \"gdp\"}, \"y\": {\"type\": \"quantitative\", \"bin\": {\"step\": 0.5}, \"field\": \"life_expect\", \"scale\": {\"domain\": [70, 90]}}}, \"selection\": {\"selector001\": {\"type\": \"interval\", \"bind\": \"scales\", \"encodings\": [\"x\", \"y\"]}}, \"$schema\": \"https://vega.github.io/schema/vega-lite/v3.4.0.json\", \"datasets\": {\"data-7a3f19ee86c33e76528309985f79c706\": [{\"country\": \"Austria\", \"life_expect\": 81.8, \"gdp\": 356237.6}, {\"country\": \"Belgium\", \"life_expect\": 81.5, \"gdp\": 424660.3}, {\"country\": \"Bulgaria\", \"life_expect\": 74.9, \"gdp\": 48128.6}, {\"country\": \"Switzerland\", \"life_expect\": 83.7, \"gdp\": 605753.7}, {\"country\": \"Cyprus\", \"life_expect\": 82.7, \"gdp\": 18490.2}, {\"country\": \"Czechia\", \"life_expect\": 79.1, \"gdp\": 176370.1}, {\"country\": \"Germany\", \"life_expect\": 81.0, \"gdp\": 3159750.0}, {\"country\": \"Denmark\", \"life_expect\": 80.9, \"gdp\": 282089.9}, {\"country\": \"Estonia\", \"life_expect\": 78.0, \"gdp\": 21682.6}, {\"country\": \"Greece\", \"life_expect\": 81.5, \"gdp\": 176487.9}, {\"country\": \"Spain\", \"life_expect\": 83.5, \"gdp\": 1118743.0}, {\"country\": \"Finland\", \"life_expect\": 81.5, \"gdp\": 216073.0}, {\"country\": \"France\", \"life_expect\": 82.7, \"gdp\": 2228568.0}, {\"country\": \"Croatia\", \"life_expect\": 78.2, \"gdp\": 46639.5}, {\"country\": \"Hungary\", \"life_expect\": 76.2, \"gdp\": 113903.8}, {\"country\": \"Ireland\", \"life_expect\": 81.8, \"gdp\": 273238.2}, {\"country\": \"Iceland\", \"life_expect\": 82.2, \"gdp\": 18646.1}, {\"country\": \"Italy\", \"life_expect\": 83.4, \"gdp\": 1689824.0}, {\"country\": \"Lithuania\", \"life_expect\": 74.9, \"gdp\": 38849.4}, {\"country\": \"Luxembourg\", \"life_expect\": 82.7, \"gdp\": 53303.0}, {\"country\": \"Latvia\", \"life_expect\": 74.9, \"gdp\": 25037.7}, {\"country\": \"Malta\", \"life_expect\": 82.6, \"gdp\": 10344.1}, {\"country\": \"Netherlands\", \"life_expect\": 81.7, \"gdp\": 708337.0}, {\"country\": \"Norway\", \"life_expect\": 82.5, \"gdp\": 335747.5}, {\"country\": \"Poland\", \"life_expect\": 78.0, \"gdp\": 426547.5}, {\"country\": \"Portugal\", \"life_expect\": 81.3, \"gdp\": 186480.5}, {\"country\": \"Romania\", \"life_expect\": 75.3, \"gdp\": 170393.6}, {\"country\": \"Sweden\", \"life_expect\": 82.4, \"gdp\": 463147.5}, {\"country\": \"Slovenia\", \"life_expect\": 81.2, \"gdp\": 40357.2}, {\"country\": \"Slovakia\", \"life_expect\": 77.3, \"gdp\": 81226.1}, {\"country\": \"Turkey\", \"life_expect\": 78.1, \"gdp\": 780224.9}, {\"country\": \"United Kingdom\", \"life_expect\": 81.2, \"gdp\": 2403382.6}]}};\n",
       "const opt = {};\n",
       "const type = \"vega-lite\";\n",
       "const id = \"b4e0e876-7510-46e7-8dca-67900997f90e\";\n",
       "\n",
       "const output_area = this;\n",
       "\n",
       "require([\"nbextensions/jupyter-vega/index\"], function(vega) {\n",
       "  const target = document.createElement(\"div\");\n",
       "  target.id = id;\n",
       "  target.className = \"vega-embed\";\n",
       "\n",
       "  const style = document.createElement(\"style\");\n",
       "  style.textContent = [\n",
       "    \".vega-embed .error p {\",\n",
       "    \"  color: firebrick;\",\n",
       "    \"  font-size: 14px;\",\n",
       "    \"}\",\n",
       "  ].join(\"\\\\n\");\n",
       "\n",
       "  // element is a jQuery wrapped DOM element inside the output area\n",
       "  // see http://ipython.readthedocs.io/en/stable/api/generated/\\\n",
       "  // IPython.display.html#IPython.display.Javascript.__init__\n",
       "  element[0].appendChild(target);\n",
       "  element[0].appendChild(style);\n",
       "\n",
       "  vega.render(\"#\" + id, spec, type, opt, output_area);\n",
       "}, function (err) {\n",
       "  if (err.requireType !== \"scripterror\") {\n",
       "    throw(err);\n",
       "  }\n",
       "});\n"
      ],
      "text/plain": [
       "<vega.vegalite.VegaLite at 0x21e0fc17828>"
      ]
     },
     "metadata": {
      "jupyter-vega": "#b4e0e876-7510-46e7-8dca-67900997f90e"
     },
     "output_type": "display_data"
    },
    {
     "data": {
      "text/plain": []
     },
     "execution_count": 1,
     "metadata": {},
     "output_type": "execute_result"
    },
    {
     "data": {
      "image/png": "[encoded data removed]"
     },
     "metadata": {
      "jupyter-vega": "#b4e0e876-7510-46e7-8dca-67900997f90e"
     },
     "output_type": "display_data"
    }
   ],
   "source": [
    "import pandas as pd \n",
    "import altair as alt \n",
    "alt.renderers.enable('notebook')\n",
    "\n",
    "df = pd.read_csv('Data\\\\life_expectancy_2016.csv') \n",
    "df2 = pd.read_csv('Data\\\\perceived_health_2016.csv') \n",
    "df3 = pd.read_csv('Data\\\\pollution_2016.csv')\n",
    "df4 = pd.read_csv('Data\\\\gdp_2016.csv')\n",
    "\n",
    "merged = pd.merge(left=df,right=df4, left_on='country', right_on='country')\n",
    "\n",
    "chart1 = alt.Chart(merged).mark_rect().encode(\n",
    "    alt.X('gdp:Q', bin=alt.Bin(step=100000)),\n",
    "    alt.Y('life_expect:Q', scale = alt.Scale( domain=(70, 90)), bin=alt.Bin(step=0.5)),\n",
    "    alt.Color('count()'),\n",
    ").interactive()\n",
    "\n",
    "chart2 = alt.Chart(merged).mark_rect().encode(\n",
    "    alt.X('life_expect', scale = alt.Scale( domain=(70, 90)), bin=True),\n",
    "    alt.Y('prct_health_verygood:Q', bin=True),\n",
    "    alt.Color('count()'),\n",
    ").interactive()\n",
    "\n",
    "addedChart = alt.Chart(merged).mark_line(color = 'red').encode(\n",
    "alt.X('mean(life_expect)'),\n",
    "    alt.Y('prct_health_verygood:Q', bin= True),\n",
    ")\n",
    "\n",
    "chart3 = alt.Chart(merged).mark_line().encode( \n",
    "    alt.X('country'),\n",
    "    alt.Y('median_income',\n",
    "    scale = alt.Scale( range=(0, 50))),\n",
    "\n",
    ")\n",
    "\n",
    "chart1\n",
    "\n",
    "#.configure_mark(color='red')\n",
    "\n",
    "#Drop down to choose\n",
    "\n",
    "#scale=alt.Scale(\n",
    "\n",
    "        #domain=(5, 20),\n",
    "        #clamp=True\n",
    "#,"
   ]
  }
 ],
 "metadata": {
  "kernelspec": {
   "display_name": "Python 3",
   "language": "python",
   "name": "python3"
  },
  "language_info": {
   "codemirror_mode": {
    "name": "ipython",
    "version": 3
   },
   "file_extension": ".py",
   "mimetype": "text/x-python",
   "name": "python",
   "nbconvert_exporter": "python",
   "pygments_lexer": "ipython3",
   "version": "3.6.7"
  }
 },
 "nbformat": 4,
 "nbformat_minor": 2
}
